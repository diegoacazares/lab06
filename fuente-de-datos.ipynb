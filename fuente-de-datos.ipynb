{
  "metadata": {
    "language_info": {
      "codemirror_mode": {
        "name": "python",
        "version": 3
      },
      "file_extension": ".py",
      "mimetype": "text/x-python",
      "name": "python",
      "nbconvert_exporter": "python",
      "pygments_lexer": "ipython3",
      "version": "3.8"
    },
    "kernelspec": {
      "name": "python",
      "display_name": "Python (Pyodide)",
      "language": "python"
    }
  },
  "nbformat_minor": 4,
  "nbformat": 4,
  "cells": [
    {
      "cell_type": "code",
      "source": "#Importe su fuente de datos",
      "metadata": {
        "trusted": true
      },
      "execution_count": 1,
      "outputs": []
    },
    {
      "cell_type": "code",
      "source": "import pandas as pd",
      "metadata": {
        "trusted": true
      },
      "execution_count": 2,
      "outputs": []
    },
    {
      "cell_type": "code",
      "source": "from matplotlib import pyplot as plt",
      "metadata": {
        "trusted": true
      },
      "execution_count": 3,
      "outputs": []
    },
    {
      "cell_type": "code",
      "source": "#La fuente de datos se ha importado\n#Se importa la primera fuente de datos",
      "metadata": {
        "trusted": true
      },
      "execution_count": 5,
      "outputs": []
    },
    {
      "cell_type": "code",
      "source": "fd1 = pd.read_csv(\"clean-data.csv\")",
      "metadata": {
        "trusted": true
      },
      "execution_count": 6,
      "outputs": []
    },
    {
      "cell_type": "code",
      "source": "fd1",
      "metadata": {
        "trusted": true
      },
      "execution_count": 7,
      "outputs": [
        {
          "execution_count": 7,
          "output_type": "execute_result",
          "data": {
            "text/plain": "       Area                            Elemento Producto   Ano        Meses  \\\n0   Ecuador  Precio al productor (USD/tonelada)     Maiz  2010  Valor anual   \n1   Ecuador  Precio al productor (USD/tonelada)     Maiz  2011  Valor anual   \n2   Ecuador  Precio al productor (USD/tonelada)     Maiz  2012  Valor anual   \n3   Ecuador  Precio al productor (USD/tonelada)     Maiz  2013  Valor anual   \n4   Ecuador  Precio al productor (USD/tonelada)     Maiz  2014  Valor anual   \n5   Ecuador  Precio al productor (USD/tonelada)     Maiz  2015  Valor anual   \n6   Ecuador  Precio al productor (USD/tonelada)     Maiz  2016  Valor anual   \n7   Ecuador  Precio al productor (USD/tonelada)     Maiz  2017  Valor anual   \n8   Ecuador  Precio al productor (USD/tonelada)     Maiz  2018  Valor anual   \n9   Ecuador  Precio al productor (USD/tonelada)     Maiz  2019  Valor anual   \n10  Ecuador  Precio al productor (USD/tonelada)     Maiz  2020  Valor anual   \n\n   Unidad  Valor  \n0     USD  380.0  \n1     USD  250.0  \n2     USD  315.9  \n3     USD  361.0  \n4     USD  335.6  \n5     USD  357.1  \n6     USD  381.6  \n7     USD  363.0  \n8     USD  316.1  \n9     USD  330.1  \n10    USD  333.4  ",
            "text/html": "<div>\n<style scoped>\n    .dataframe tbody tr th:only-of-type {\n        vertical-align: middle;\n    }\n\n    .dataframe tbody tr th {\n        vertical-align: top;\n    }\n\n    .dataframe thead th {\n        text-align: right;\n    }\n</style>\n<table border=\"1\" class=\"dataframe\">\n  <thead>\n    <tr style=\"text-align: right;\">\n      <th></th>\n      <th>Area</th>\n      <th>Elemento</th>\n      <th>Producto</th>\n      <th>Ano</th>\n      <th>Meses</th>\n      <th>Unidad</th>\n      <th>Valor</th>\n    </tr>\n  </thead>\n  <tbody>\n    <tr>\n      <th>0</th>\n      <td>Ecuador</td>\n      <td>Precio al productor (USD/tonelada)</td>\n      <td>Maiz</td>\n      <td>2010</td>\n      <td>Valor anual</td>\n      <td>USD</td>\n      <td>380.0</td>\n    </tr>\n    <tr>\n      <th>1</th>\n      <td>Ecuador</td>\n      <td>Precio al productor (USD/tonelada)</td>\n      <td>Maiz</td>\n      <td>2011</td>\n      <td>Valor anual</td>\n      <td>USD</td>\n      <td>250.0</td>\n    </tr>\n    <tr>\n      <th>2</th>\n      <td>Ecuador</td>\n      <td>Precio al productor (USD/tonelada)</td>\n      <td>Maiz</td>\n      <td>2012</td>\n      <td>Valor anual</td>\n      <td>USD</td>\n      <td>315.9</td>\n    </tr>\n    <tr>\n      <th>3</th>\n      <td>Ecuador</td>\n      <td>Precio al productor (USD/tonelada)</td>\n      <td>Maiz</td>\n      <td>2013</td>\n      <td>Valor anual</td>\n      <td>USD</td>\n      <td>361.0</td>\n    </tr>\n    <tr>\n      <th>4</th>\n      <td>Ecuador</td>\n      <td>Precio al productor (USD/tonelada)</td>\n      <td>Maiz</td>\n      <td>2014</td>\n      <td>Valor anual</td>\n      <td>USD</td>\n      <td>335.6</td>\n    </tr>\n    <tr>\n      <th>5</th>\n      <td>Ecuador</td>\n      <td>Precio al productor (USD/tonelada)</td>\n      <td>Maiz</td>\n      <td>2015</td>\n      <td>Valor anual</td>\n      <td>USD</td>\n      <td>357.1</td>\n    </tr>\n    <tr>\n      <th>6</th>\n      <td>Ecuador</td>\n      <td>Precio al productor (USD/tonelada)</td>\n      <td>Maiz</td>\n      <td>2016</td>\n      <td>Valor anual</td>\n      <td>USD</td>\n      <td>381.6</td>\n    </tr>\n    <tr>\n      <th>7</th>\n      <td>Ecuador</td>\n      <td>Precio al productor (USD/tonelada)</td>\n      <td>Maiz</td>\n      <td>2017</td>\n      <td>Valor anual</td>\n      <td>USD</td>\n      <td>363.0</td>\n    </tr>\n    <tr>\n      <th>8</th>\n      <td>Ecuador</td>\n      <td>Precio al productor (USD/tonelada)</td>\n      <td>Maiz</td>\n      <td>2018</td>\n      <td>Valor anual</td>\n      <td>USD</td>\n      <td>316.1</td>\n    </tr>\n    <tr>\n      <th>9</th>\n      <td>Ecuador</td>\n      <td>Precio al productor (USD/tonelada)</td>\n      <td>Maiz</td>\n      <td>2019</td>\n      <td>Valor anual</td>\n      <td>USD</td>\n      <td>330.1</td>\n    </tr>\n    <tr>\n      <th>10</th>\n      <td>Ecuador</td>\n      <td>Precio al productor (USD/tonelada)</td>\n      <td>Maiz</td>\n      <td>2020</td>\n      <td>Valor anual</td>\n      <td>USD</td>\n      <td>333.4</td>\n    </tr>\n  </tbody>\n</table>\n</div>"
          },
          "metadata": {}
        }
      ]
    },
    {
      "cell_type": "code",
      "source": "",
      "metadata": {},
      "execution_count": null,
      "outputs": []
    }
  ]
}